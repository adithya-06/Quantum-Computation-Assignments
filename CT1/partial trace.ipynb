{
 "cells": [
  {
   "cell_type": "code",
   "execution_count": 2,
   "id": "214fe6f8-1c18-4a51-9eb5-360c3025dc6a",
   "metadata": {},
   "outputs": [
    {
     "name": "stderr",
     "output_type": "stream",
     "text": [
      "<frozen importlib._bootstrap>:219: RuntimeWarning: scipy._lib.messagestream.MessageStream size changed, may indicate binary incompatibility. Expected 56 from C header, got 64 from PyObject\n"
     ]
    }
   ],
   "source": [
    "import numpy as np\n",
    "\n",
    "# Importing standard Qiskit libraries\n",
    "from qiskit import QuantumCircuit, transpile, Aer, IBMQ\n",
    "from qiskit.tools.jupyter import *\n",
    "from qiskit.visualization import *\n",
    "from qiskit.quantum_info import*\n",
    "\n",
    "from ibm_quantum_widgets import *\n",
    "from qiskit.providers.aer import QasmSimulator\n",
    "\n",
    "from qiskit.quantum_info import Statevector\n",
    "\n",
    "from qiskit.visualization import plot_state_city\n",
    "\n",
    "# Loading your IBM Quantum account(s)\n",
    "provider = IBMQ.load_account()"
   ]
  },
  {
   "cell_type": "code",
   "execution_count": 3,
   "id": "0e871acd-ec12-43ac-9d74-53e72ecd7a84",
   "metadata": {},
   "outputs": [
    {
     "data": {
      "image/png": "[encoded data removed]",
      "text/plain": [
       "<Figure size 267.052x144.48 with 1 Axes>"
      ]
     },
     "execution_count": 3,
     "metadata": {},
     "output_type": "execute_result"
    }
   ],
   "source": [
    "qc=QuantumCircuit(2)\n",
    "qc.h(1)\n",
    "qc.cz(0,1)\n",
    "qc.cx(1,0)\n",
    "qc.draw()"
   ]
  },
  {
   "cell_type": "code",
   "execution_count": 4,
   "id": "34220713-3fb8-4fe3-bafa-fe1ba5fb4584",
   "metadata": {},
   "outputs": [
    {
     "data": {
      "text/latex": [
       "$$\\frac{\\sqrt{2}}{2} |01\\rangle- \\frac{\\sqrt{2}}{2} |10\\rangle$$"
      ],
      "text/plain": [
       "<IPython.core.display.Latex object>"
      ]
     },
     "execution_count": 4,
     "metadata": {},
     "output_type": "execute_result"
    }
   ],
   "source": [
    "# Set the intial state of the simulator to the ground state using from_int\n",
    "state = Statevector.from_int(1,4)\n",
    "\n",
    "# Evolve the state by the quantum circuit\n",
    "state = state.evolve(qc)\n",
    "\n",
    "#draw using latex\n",
    "state.draw('latex')"
   ]
  },
  {
   "cell_type": "code",
   "execution_count": 7,
   "id": "e06e054f-a1a7-4935-889e-dbc7e0b7c3c4",
   "metadata": {},
   "outputs": [
    {
     "data": {
      "text/latex": [
       "$$\n",
       "\\rho_{AB}=\n",
       "\\begin{bmatrix}\n",
       "\\tfrac{1}{2} & 0 & 0 & \\tfrac{1}{2}  \\\\\n",
       " 0 & 0 & 0 & 0  \\\\\n",
       " 0 & 0 & 0 & 0  \\\\\n",
       " \\tfrac{1}{2} & 0 & 0 & \\tfrac{1}{2}  \\\\\n",
       " \\end{bmatrix}\n",
       "$$"
      ],
      "text/plain": [
       "<IPython.core.display.Latex object>"
      ]
     },
     "execution_count": 7,
     "metadata": {},
     "output_type": "execute_result"
    }
   ],
   "source": [
    "rho_AB=DensityMatrix.from_instruction(qc)\n",
    "rho_AB.draw('latex',prefix='\\\\rho_{AB}=')"
   ]
  },
  {
   "cell_type": "code",
   "execution_count": 8,
   "id": "cd5d89c9-46e2-48da-9ce2-b3c272bc26e0",
   "metadata": {},
   "outputs": [
    {
     "data": {
      "text/latex": [
       "$$\n",
       "\n",
       "\\begin{bmatrix}\n",
       "\\tfrac{1}{2} & 0  \\\\\n",
       " 0 & \\tfrac{1}{2}  \\\\\n",
       " \\end{bmatrix}\n",
       "$$"
      ],
      "text/plain": [
       "<IPython.core.display.Latex object>"
      ]
     },
     "metadata": {},
     "output_type": "display_data"
    },
    {
     "data": {
      "text/latex": [
       "$$\n",
       "\n",
       "\\begin{bmatrix}\n",
       "\\tfrac{1}{2} & 0  \\\\\n",
       " 0 & \\tfrac{1}{2}  \\\\\n",
       " \\end{bmatrix}\n",
       "$$"
      ],
      "text/plain": [
       "<IPython.core.display.Latex object>"
      ]
     },
     "metadata": {},
     "output_type": "display_data"
    }
   ],
   "source": [
    "rho_B=partial_trace(rho_AB,[0])\n",
    "display(rho_B.draw('latex'))\n",
    "rho_A=partial_trace(rho_AB,[1])\n",
    "display(rho_A.draw('latex'))"
   ]
  },
  {
   "cell_type": "code",
   "execution_count": 9,
   "id": "db4314d2-ea82-4b03-95b6-cbbdf243b1e9",
   "metadata": {},
   "outputs": [
    {
     "name": "stdout",
     "output_type": "stream",
     "text": [
      "1.4415419267167124e-15\n",
      "1.0\n",
      "1.0\n"
     ]
    }
   ],
   "source": [
    "print(entropy(rho_AB))\n",
    "print(entropy(rho_B))\n",
    "print(entropy(rho_A))"
   ]
  }
 ],
 "metadata": {
  "kernelspec": {
   "display_name": "Python 3 (ipykernel)",
   "language": "python",
   "name": "python3"
  },
  "language_info": {
   "codemirror_mode": {
    "name": "ipython",
    "version": 3
   },
   "file_extension": ".py",
   "mimetype": "text/x-python",
   "name": "python",
   "nbconvert_exporter": "python",
   "pygments_lexer": "ipython3",
   "version": "3.8.13"
  },
  "widgets": {
   "application/vnd.jupyter.widget-state+json": {
    "state": {
     "0521caa3464e4730a9458e063915c5a9": {
      "model_module": "@jupyter-widgets/base",
      "model_module_version": "1.2.0",
      "model_name": "LayoutModel",
      "state": {
       "width": "145px"
      }
     },
     "0bc6332c141346b0830dd304627c154b": {
      "model_module": "@jupyter-widgets/base",
      "model_module_version": "1.2.0",
      "model_name": "LayoutModel",
      "state": {
       "width": "70px"
      }
     },
     "1bdd7c2b063f49e5b5db6741c7ca7475": {
      "model_module": "@jupyter-widgets/controls",
      "model_module_version": "1.5.0",
      "model_name": "DescriptionStyleModel",
      "state": {
       "description_width": ""
      }
     },
     "2b73371404f04ca8bad879ce7185fd12": {
      "model_module": "@jupyter-widgets/controls",
      "model_module_version": "1.5.0",
      "model_name": "HTMLModel",
      "state": {
       "layout": "IPY_MODEL_0bc6332c141346b0830dd304627c154b",
       "style": "IPY_MODEL_4eed77f4262e4f4abc81092ed54701cf",
       "value": "<h5>Queue</h5>"
      }
     },
     "331e05df4ffd4c74a09d360a73950af3": {
      "model_module": "@jupyter-widgets/controls",
      "model_module_version": "1.5.0",
      "model_name": "GridBoxModel",
      "state": {
       "children": [
        "IPY_MODEL_54719517a2e949208d50858ba2cae45e"
       ],
       "layout": "IPY_MODEL_a6c1647e406f4355bf1e7f88fab6e58a"
      }
     },
     "4580e33e209e4c96979f3272347037f5": {
      "model_module": "@jupyter-widgets/controls",
      "model_module_version": "1.5.0",
      "model_name": "HBoxModel",
      "state": {
       "children": [
        "IPY_MODEL_bfbb93af36d841fb8584d3872ea6f89c",
        "IPY_MODEL_9012abbe1f62404391d7bf24c7dcb456",
        "IPY_MODEL_50163fd5f50347dc8fa5aa6d794b9730",
        "IPY_MODEL_2b73371404f04ca8bad879ce7185fd12",
        "IPY_MODEL_6d33168e1c654962b71ef831bdd207c5"
       ],
       "layout": "IPY_MODEL_cb7092f7369147c38212a5769241b1aa"
      }
     },
     "4e20d57fa8dd40f1ad2537514c237989": {
      "model_module": "@jupyter-widgets/base",
      "model_module_version": "1.2.0",
      "model_name": "LayoutModel",
      "state": {
       "width": "95px"
      }
     },
     "4eed77f4262e4f4abc81092ed54701cf": {
      "model_module": "@jupyter-widgets/controls",
      "model_module_version": "1.5.0",
      "model_name": "DescriptionStyleModel",
      "state": {
       "description_width": ""
      }
     },
     "50163fd5f50347dc8fa5aa6d794b9730": {
      "model_module": "@jupyter-widgets/controls",
      "model_module_version": "1.5.0",
      "model_name": "HTMLModel",
      "state": {
       "layout": "IPY_MODEL_4e20d57fa8dd40f1ad2537514c237989",
       "style": "IPY_MODEL_97547794fc1c4061949b3d83883f28d8",
       "value": "<h5>Status</h5>"
      }
     },
     "54719517a2e949208d50858ba2cae45e": {
      "model_module": "@jupyter-widgets/controls",
      "model_module_version": "1.5.0",
      "model_name": "ButtonModel",
      "state": {
       "button_style": "primary",
       "description": "Clear",
       "layout": "IPY_MODEL_a1d74c6037da4cefb58f58c7f463c8d1",
       "style": "IPY_MODEL_cadda9b659794294aba398d6ccd120fd"
      }
     },
     "63c86c02a81f44c288d849b050009e6c": {
      "model_module": "@jupyter-widgets/base",
      "model_module_version": "1.2.0",
      "model_name": "LayoutModel",
      "state": {
       "margin": "0px 0px 10px 0px"
      }
     },
     "662c85bd0d2f40809196772999140ca8": {
      "model_module": "@jupyter-widgets/base",
      "model_module_version": "1.2.0",
      "model_name": "LayoutModel",
      "state": {
       "width": "190px"
      }
     },
     "673aab9b40b94c128c682ecce7a5a56c": {
      "model_module": "@jupyter-widgets/controls",
      "model_module_version": "1.5.0",
      "model_name": "DescriptionStyleModel",
      "state": {
       "description_width": ""
      }
     },
     "6d33168e1c654962b71ef831bdd207c5": {
      "model_module": "@jupyter-widgets/controls",
      "model_module_version": "1.5.0",
      "model_name": "HTMLModel",
      "state": {
       "layout": "IPY_MODEL_d0abb8598a0e41ac92229fd048dfbd23",
       "style": "IPY_MODEL_1bdd7c2b063f49e5b5db6741c7ca7475",
       "value": "<h5>Message</h5>"
      }
     },
     "9012abbe1f62404391d7bf24c7dcb456": {
      "model_module": "@jupyter-widgets/controls",
      "model_module_version": "1.5.0",
      "model_name": "HTMLModel",
      "state": {
       "layout": "IPY_MODEL_0521caa3464e4730a9458e063915c5a9",
       "style": "IPY_MODEL_d2e62210268c40c98927864cbe7e1423",
       "value": "<h5>Backend</h5>"
      }
     },
     "97547794fc1c4061949b3d83883f28d8": {
      "model_module": "@jupyter-widgets/controls",
      "model_module_version": "1.5.0",
      "model_name": "DescriptionStyleModel",
      "state": {
       "description_width": ""
      }
     },
     "a1d74c6037da4cefb58f58c7f463c8d1": {
      "model_module": "@jupyter-widgets/base",
      "model_module_version": "1.2.0",
      "model_name": "LayoutModel",
      "state": {
       "grid_area": "right",
       "padding": "0px 0px 0px 0px",
       "width": "70px"
      }
     },
     "a6c1647e406f4355bf1e7f88fab6e58a": {
      "model_module": "@jupyter-widgets/base",
      "model_module_version": "1.2.0",
      "model_name": "LayoutModel",
      "state": {
       "grid_template_areas": "\n                                       \". . . . right \"\n                                        ",
       "grid_template_columns": "20% 20% 20% 20% 20%",
       "width": "100%"
      }
     },
     "b03c39f524c1452a823558d4ba929adb": {
      "model_module": "@jupyter-widgets/controls",
      "model_module_version": "1.5.0",
      "model_name": "HTMLModel",
      "state": {
       "layout": "IPY_MODEL_63c86c02a81f44c288d849b050009e6c",
       "style": "IPY_MODEL_673aab9b40b94c128c682ecce7a5a56c",
       "value": "<p style='font-family: IBM Plex Sans, Arial, Helvetica, sans-serif; font-size: 20px; font-weight: medium;'>Circuit Properties</p>"
      }
     },
     "bfbb93af36d841fb8584d3872ea6f89c": {
      "model_module": "@jupyter-widgets/controls",
      "model_module_version": "1.5.0",
      "model_name": "HTMLModel",
      "state": {
       "layout": "IPY_MODEL_662c85bd0d2f40809196772999140ca8",
       "style": "IPY_MODEL_fb0a8e6a090e4392adb839dcf92a8155",
       "value": "<h5>Job ID</h5>"
      }
     },
     "cadda9b659794294aba398d6ccd120fd": {
      "model_module": "@jupyter-widgets/controls",
      "model_module_version": "1.5.0",
      "model_name": "ButtonStyleModel",
      "state": {}
     },
     "cb7092f7369147c38212a5769241b1aa": {
      "model_module": "@jupyter-widgets/base",
      "model_module_version": "1.2.0",
      "model_name": "LayoutModel",
      "state": {
       "margin": "0px 0px 0px 37px",
       "width": "600px"
      }
     },
     "d0abb8598a0e41ac92229fd048dfbd23": {
      "model_module": "@jupyter-widgets/base",
      "model_module_version": "1.2.0",
      "model_name": "LayoutModel",
      "state": {}
     },
     "d2e62210268c40c98927864cbe7e1423": {
      "model_module": "@jupyter-widgets/controls",
      "model_module_version": "1.5.0",
      "model_name": "DescriptionStyleModel",
      "state": {
       "description_width": ""
      }
     },
     "fb0a8e6a090e4392adb839dcf92a8155": {
      "model_module": "@jupyter-widgets/controls",
      "model_module_version": "1.5.0",
      "model_name": "DescriptionStyleModel",
      "state": {
       "description_width": ""
      }
     }
    },
    "version_major": 2,
    "version_minor": 0
   }
  }
 },
 "nbformat": 4,
 "nbformat_minor": 5
}
