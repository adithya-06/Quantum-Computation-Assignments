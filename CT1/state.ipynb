{
 "cells": [
  {
   "cell_type": "code",
   "execution_count": 1,
   "id": "6a37541f-9663-408c-a355-c3f42f00bb85",
   "metadata": {
    "jupyter": {
     "source_hidden": true
    },
    "tags": []
   },
   "outputs": [
    {
     "name": "stderr",
     "output_type": "stream",
     "text": [
      "<frozen importlib._bootstrap>:219: RuntimeWarning: scipy._lib.messagestream.MessageStream size changed, may indicate binary incompatibility. Expected 56 from C header, got 64 from PyObject\n"
     ]
    }
   ],
   "source": [
    "import numpy as np\n",
    "# Importing standard Qiskit libraries\n",
    "from qiskit import QuantumCircuit, transpile, Aer, IBMQ,execute\n",
    "from qiskit.tools.jupyter import *\n",
    "from qiskit.visualization import *\n",
    "from qiskit.quantum_info import*\n",
    "from ibm_quantum_widgets import *\n",
    "from qiskit.providers.aer import QasmSimulator\n",
    "# Loading your IBM Quantum account(s)\n",
    "provider = IBMQ.load_account()\n"
   ]
  },
  {
   "cell_type": "code",
   "execution_count": 8,
   "id": "e883cc24-59c0-438a-bbb5-b8507f715a51",
   "metadata": {},
   "outputs": [
    {
     "data": {
      "image/png": "[encoded data removed]",
      "text/plain": [
       "<Figure size 206.852x144.48 with 1 Axes>"
      ]
     },
     "execution_count": 8,
     "metadata": {},
     "output_type": "execute_result"
    }
   ],
   "source": [
    "# Create a Quantum Circuit acting on a quantum register of two qubits\n",
    "qc=QuantumCircuit(2)\n",
    "qc.h(1)\n",
    "# qc.cx(0,1)\n",
    "qc.cx(1,0)\n",
    "qc.draw()\n"
   ]
  },
  {
   "cell_type": "code",
   "execution_count": 9,
   "id": "39d2475c-e140-46de-8557-13e1511c8dfa",
   "metadata": {},
   "outputs": [
    {
     "data": {
      "text/latex": [
       "$$\\frac{\\sqrt{2}}{2} |01\\rangle+\\frac{\\sqrt{2}}{2} |10\\rangle$$"
      ],
      "text/plain": [
       "<IPython.core.display.Latex object>"
      ]
     },
     "execution_count": 9,
     "metadata": {},
     "output_type": "execute_result"
    }
   ],
   "source": [
    "# Set the intial state of the simulator to the ground state using from_int\n",
    "state = Statevector.from_int(1,4)\n",
    "# Evolve the state by the quantum circuit\n",
    "state = state.evolve(qc)\n",
    "#draw using latex\n",
    "state.draw('latex')"
   ]
  },
  {
   "cell_type": "code",
   "execution_count": null,
   "id": "8bd6ae81-2009-4559-9503-68997f2f95de",
   "metadata": {},
   "outputs": [],
   "source": []
  }
 ],
 "metadata": {
  "kernelspec": {
   "display_name": "Python 3 (ipykernel)",
   "language": "python",
   "name": "python3"
  },
  "language_info": {
   "codemirror_mode": {
    "name": "ipython",
    "version": 3
   },
   "file_extension": ".py",
   "mimetype": "text/x-python",
   "name": "python",
   "nbconvert_exporter": "python",
   "pygments_lexer": "ipython3",
   "version": "3.8.13"
  },
  "widgets": {
   "application/vnd.jupyter.widget-state+json": {
    "state": {
     "0c36f92d49924858b4b6fa5271684796": {
      "model_module": "@jupyter-widgets/controls",
      "model_module_version": "1.5.0",
      "model_name": "GridBoxModel",
      "state": {
       "children": [
        "IPY_MODEL_7128f5960f4f4ddabea6ab053419f0eb"
       ],
       "layout": "IPY_MODEL_85efae1edfbe41a59427b1741736804c"
      }
     },
     "33c954441f5c42e19194ee3fe83a9ab8": {
      "model_module": "@jupyter-widgets/base",
      "model_module_version": "1.2.0",
      "model_name": "LayoutModel",
      "state": {}
     },
     "36c84250463940fb8ebc185ff3987281": {
      "model_module": "@jupyter-widgets/base",
      "model_module_version": "1.2.0",
      "model_name": "LayoutModel",
      "state": {
       "width": "190px"
      }
     },
     "388f50b19fe440438160bc4d9d7b53d3": {
      "model_module": "@jupyter-widgets/base",
      "model_module_version": "1.2.0",
      "model_name": "LayoutModel",
      "state": {
       "width": "95px"
      }
     },
     "3f1f586dc0244a66af895c79c6135e69": {
      "model_module": "@jupyter-widgets/controls",
      "model_module_version": "1.5.0",
      "model_name": "DescriptionStyleModel",
      "state": {
       "description_width": ""
      }
     },
     "40d8b2ce17e948f9aaeba9337c7acfda": {
      "model_module": "@jupyter-widgets/controls",
      "model_module_version": "1.5.0",
      "model_name": "HTMLModel",
      "state": {
       "layout": "IPY_MODEL_79e1c51981ce436abd8f45ddef1d4b05",
       "style": "IPY_MODEL_d4dcafdca1c74622870c51191972ab18",
       "value": "<h5>Backend</h5>"
      }
     },
     "459dba47fc104e2a95ab761d5f5260b8": {
      "model_module": "@jupyter-widgets/controls",
      "model_module_version": "1.5.0",
      "model_name": "ButtonStyleModel",
      "state": {}
     },
     "5734f9c9cbec40d2a82253b3d25f9760": {
      "model_module": "@jupyter-widgets/controls",
      "model_module_version": "1.5.0",
      "model_name": "HTMLModel",
      "state": {
       "layout": "IPY_MODEL_36c84250463940fb8ebc185ff3987281",
       "style": "IPY_MODEL_3f1f586dc0244a66af895c79c6135e69",
       "value": "<h5>Job ID</h5>"
      }
     },
     "62bbdfa77d574d63bdc16a8dd85ced0f": {
      "model_module": "@jupyter-widgets/controls",
      "model_module_version": "1.5.0",
      "model_name": "DescriptionStyleModel",
      "state": {
       "description_width": ""
      }
     },
     "68865cbc47a347e986ae83245512f2bf": {
      "model_module": "@jupyter-widgets/base",
      "model_module_version": "1.2.0",
      "model_name": "LayoutModel",
      "state": {
       "grid_area": "right",
       "padding": "0px 0px 0px 0px",
       "width": "70px"
      }
     },
     "7128f5960f4f4ddabea6ab053419f0eb": {
      "model_module": "@jupyter-widgets/controls",
      "model_module_version": "1.5.0",
      "model_name": "ButtonModel",
      "state": {
       "button_style": "primary",
       "description": "Clear",
       "layout": "IPY_MODEL_68865cbc47a347e986ae83245512f2bf",
       "style": "IPY_MODEL_459dba47fc104e2a95ab761d5f5260b8"
      }
     },
     "7851b0b4a6194832bd48bdb28981590e": {
      "model_module": "@jupyter-widgets/controls",
      "model_module_version": "1.5.0",
      "model_name": "HTMLModel",
      "state": {
       "layout": "IPY_MODEL_33c954441f5c42e19194ee3fe83a9ab8",
       "style": "IPY_MODEL_f60390f1c6254360bef6449475b56781",
       "value": "<h5>Message</h5>"
      }
     },
     "79e1c51981ce436abd8f45ddef1d4b05": {
      "model_module": "@jupyter-widgets/base",
      "model_module_version": "1.2.0",
      "model_name": "LayoutModel",
      "state": {
       "width": "145px"
      }
     },
     "85efae1edfbe41a59427b1741736804c": {
      "model_module": "@jupyter-widgets/base",
      "model_module_version": "1.2.0",
      "model_name": "LayoutModel",
      "state": {
       "grid_template_areas": "\n                                       \". . . . right \"\n                                        ",
       "grid_template_columns": "20% 20% 20% 20% 20%",
       "width": "100%"
      }
     },
     "873300c37ae34103a60e66fc4df1a2fe": {
      "model_module": "@jupyter-widgets/base",
      "model_module_version": "1.2.0",
      "model_name": "LayoutModel",
      "state": {
       "margin": "0px 0px 0px 37px",
       "width": "600px"
      }
     },
     "8e970c660ab941dcb99ab14eb97a4de8": {
      "model_module": "@jupyter-widgets/controls",
      "model_module_version": "1.5.0",
      "model_name": "HTMLModel",
      "state": {
       "layout": "IPY_MODEL_d828cf795b2948aba9b5e3038e2299c4",
       "style": "IPY_MODEL_62bbdfa77d574d63bdc16a8dd85ced0f",
       "value": "<p style='font-family: IBM Plex Sans, Arial, Helvetica, sans-serif; font-size: 20px; font-weight: medium;'>Circuit Properties</p>"
      }
     },
     "b1237fd588ba42c29aed4c5b68ce62e7": {
      "model_module": "@jupyter-widgets/controls",
      "model_module_version": "1.5.0",
      "model_name": "DescriptionStyleModel",
      "state": {
       "description_width": ""
      }
     },
     "bc12d0cfdbaf4124861ab2a6ec77eac9": {
      "model_module": "@jupyter-widgets/controls",
      "model_module_version": "1.5.0",
      "model_name": "HBoxModel",
      "state": {
       "children": [
        "IPY_MODEL_5734f9c9cbec40d2a82253b3d25f9760",
        "IPY_MODEL_40d8b2ce17e948f9aaeba9337c7acfda",
        "IPY_MODEL_cbeb2369a1e140fe95256cbd386ad614",
        "IPY_MODEL_f3d63f3d33104441a6aa1285a03c9d1d",
        "IPY_MODEL_7851b0b4a6194832bd48bdb28981590e"
       ],
       "layout": "IPY_MODEL_873300c37ae34103a60e66fc4df1a2fe"
      }
     },
     "cbeb2369a1e140fe95256cbd386ad614": {
      "model_module": "@jupyter-widgets/controls",
      "model_module_version": "1.5.0",
      "model_name": "HTMLModel",
      "state": {
       "layout": "IPY_MODEL_388f50b19fe440438160bc4d9d7b53d3",
       "style": "IPY_MODEL_f3ee9b137dae48ae90e9927a46122777",
       "value": "<h5>Status</h5>"
      }
     },
     "d4dcafdca1c74622870c51191972ab18": {
      "model_module": "@jupyter-widgets/controls",
      "model_module_version": "1.5.0",
      "model_name": "DescriptionStyleModel",
      "state": {
       "description_width": ""
      }
     },
     "d828cf795b2948aba9b5e3038e2299c4": {
      "model_module": "@jupyter-widgets/base",
      "model_module_version": "1.2.0",
      "model_name": "LayoutModel",
      "state": {
       "margin": "0px 0px 10px 0px"
      }
     },
     "f3d63f3d33104441a6aa1285a03c9d1d": {
      "model_module": "@jupyter-widgets/controls",
      "model_module_version": "1.5.0",
      "model_name": "HTMLModel",
      "state": {
       "layout": "IPY_MODEL_f8096e9b084a47d09b353511466e63f6",
       "style": "IPY_MODEL_b1237fd588ba42c29aed4c5b68ce62e7",
       "value": "<h5>Queue</h5>"
      }
     },
     "f3ee9b137dae48ae90e9927a46122777": {
      "model_module": "@jupyter-widgets/controls",
      "model_module_version": "1.5.0",
      "model_name": "DescriptionStyleModel",
      "state": {
       "description_width": ""
      }
     },
     "f60390f1c6254360bef6449475b56781": {
      "model_module": "@jupyter-widgets/controls",
      "model_module_version": "1.5.0",
      "model_name": "DescriptionStyleModel",
      "state": {
       "description_width": ""
      }
     },
     "f8096e9b084a47d09b353511466e63f6": {
      "model_module": "@jupyter-widgets/base",
      "model_module_version": "1.2.0",
      "model_name": "LayoutModel",
      "state": {
       "width": "70px"
      }
     }
    },
    "version_major": 2,
    "version_minor": 0
   }
  }
 },
 "nbformat": 4,
 "nbformat_minor": 5
}
